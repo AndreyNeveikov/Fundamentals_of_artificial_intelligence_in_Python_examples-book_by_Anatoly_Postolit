{
 "cells": [
  {
   "cell_type": "code",
   "execution_count": 13,
   "id": "297b87af",
   "metadata": {},
   "outputs": [],
   "source": [
    "import random"
   ]
  },
  {
   "cell_type": "code",
   "execution_count": 14,
   "id": "be396c87",
   "metadata": {},
   "outputs": [],
   "source": [
    "num0 = list(\"\"\"111101101101111\"\"\")\n",
    "#111\n",
    "#101\n",
    "#101\n",
    "#101\n",
    "#111\n",
    "num1 = list(\"\"\"001001001001001\"\"\")\n",
    "#001\n",
    "#001\n",
    "#001\n",
    "#001\n",
    "#001\n",
    "num2 = list(\"\"\"111001111100111\"\"\")\n",
    "#111\n",
    "#001\n",
    "#111\n",
    "#100\n",
    "#111\n",
    "num3 = list(\"\"\"111001111001111\"\"\")\n",
    "#111\n",
    "#001\n",
    "#111\n",
    "#001\n",
    "#111\n",
    "num4 = list(\"\"\"101101111001001\"\"\")\n",
    "#101\n",
    "#101\n",
    "#111\n",
    "#001\n",
    "#001\n",
    "num5 = list(\"\"\"111100111001111\"\"\")\n",
    "#111\n",
    "#100\n",
    "#111\n",
    "#001\n",
    "#111\n",
    "num6 = list(\"\"\"111100111101111\"\"\")\n",
    "#111\n",
    "#100\n",
    "#111\n",
    "#101\n",
    "#111\n",
    "num7 = list(\"\"\"111001001001001\"\"\")\n",
    "#111\n",
    "#001\n",
    "#001\n",
    "#001\n",
    "#001\n",
    "num8 = list(\"\"\"111101111101111\"\"\")\n",
    "#111\n",
    "#101\n",
    "#111\n",
    "#101\n",
    "#111\n",
    "num9 = list(\"\"\"111101111001111\"\"\")\n",
    "#111\n",
    "#101\n",
    "#111\n",
    "#001\n",
    "#111"
   ]
  },
  {
   "cell_type": "code",
   "execution_count": 15,
   "id": "cebbc458",
   "metadata": {},
   "outputs": [],
   "source": [
    "# List of all digits in one array\n",
    "nums = [num0, num1, num2, num3, num4, num5, num6, num7, num8, num9,]"
   ]
  },
  {
   "cell_type": "code",
   "execution_count": 16,
   "id": "8eb1b469",
   "metadata": {},
   "outputs": [
    {
     "data": {
      "text/plain": [
       "[0, 0, 0, 0, 0, 0, 0, 0, 0, 0, 0, 0, 0, 0, 0]"
      ]
     },
     "execution_count": 16,
     "metadata": {},
     "output_type": "execute_result"
    }
   ],
   "source": [
    "target = 5 # Target of learning\n",
    "n_sensor = 15 # Number of sensors\n",
    "\n",
    "# Initialization of scales for connections of sensors with the adder\n",
    "weights = [0 for i in range(n_sensor)] # Zeroing scales\n",
    "weights"
   ]
  },
  {
   "cell_type": "code",
   "execution_count": 17,
   "id": "bf0a802f",
   "metadata": {},
   "outputs": [],
   "source": [
    "# The function determines if the resulting image is the number '5'\n",
    "# Returns \"Yes\" if AI thinks that it is '5', else \"No\"\n",
    "def perceptron(Sensor):\n",
    "    threshold = 7 # For activation function\n",
    "    s = 0 # Sum initial value\n",
    "    for i in range(n_sensor): # Summation of signals from sensors\n",
    "        s += int(Sensor[i]) * weights[i]\n",
    "    if s >= threshold:\n",
    "        return True # Sum more that threshold\n",
    "    else:\n",
    "        return False # Sum less that threshold"
   ]
  },
  {
   "cell_type": "code",
   "execution_count": 18,
   "id": "c1666873",
   "metadata": {},
   "outputs": [],
   "source": [
    "# Decreasing weights\n",
    "# If the network made a mistake and returned \"Yes\" when the input digit != 5\n",
    "def decrease(number):\n",
    "    for i in range(n_sensor):\n",
    "        if int(number[i]) == 1:\n",
    "            weights[i] -= 1\n",
    "            \n",
    "# Increasing weights\n",
    "# If the network NOT made a mistake and returned \"Yes\" when the input digit == 5\n",
    "def increase(number):\n",
    "    for i in range(n_sensor):\n",
    "        if int(number[i]) == 1: \n",
    "            weights[i] += 1"
   ]
  },
  {
   "cell_type": "code",
   "execution_count": 19,
   "id": "ed30fc29",
   "metadata": {},
   "outputs": [],
   "source": [
    "# Network training\n",
    "n = 1000000 # number of lessons\n",
    "for i in range(n):\n",
    "    j = random.randint(0, 9) # Generating random number \n",
    "    result = perceptron(nums[j]) # Result of appeal to adder ('True' or 'False')\n",
    "    if j != target:\n",
    "        if result: # Mistake\n",
    "            decrease(nums[j])\n",
    "    else:        \n",
    "        if not result: # NOT mistake\n",
    "            increase(nums[target])"
   ]
  },
  {
   "cell_type": "code",
   "execution_count": 20,
   "id": "877e37c9",
   "metadata": {},
   "outputs": [
    {
     "name": "stdout",
     "output_type": "stream",
     "text": [
      "[1, 1, 1, 2, 0, -6, 1, 1, 1, -6, 0, 1, 1, 1, 1]\n"
     ]
    }
   ],
   "source": [
    "print(weights)"
   ]
  },
  {
   "cell_type": "code",
   "execution_count": 21,
   "id": "086a009d",
   "metadata": {},
   "outputs": [
    {
     "name": "stdout",
     "output_type": "stream",
     "text": [
      "0\n",
      "[1, 1, 1, 2, 0, -6, 1, 1, 1, -6, 0, 1, 1, 1, 1]\n"
     ]
    }
   ],
   "source": [
    "print(j)\n",
    "print(weights)"
   ]
  },
  {
   "cell_type": "code",
   "execution_count": 22,
   "id": "9161d76d",
   "metadata": {},
   "outputs": [
    {
     "name": "stdout",
     "output_type": "stream",
     "text": [
      "0 is 5 ??? False\n",
      "1 is 5 ??? False\n",
      "2 is 5 ??? False\n",
      "3 is 5 ??? False\n",
      "4 is 5 ??? False\n",
      "5 is 5 ??? True\n",
      "6 is 5 ??? False\n",
      "7 is 5 ??? False\n",
      "8 is 5 ??? False\n",
      "9 is 5 ??? False\n"
     ]
    }
   ],
   "source": [
    "print(\"0 is 5 ???\", perceptron(num0))\n",
    "print(\"1 is 5 ???\", perceptron(num1))\n",
    "print(\"2 is 5 ???\", perceptron(num2))\n",
    "print(\"3 is 5 ???\", perceptron(num3))\n",
    "print(\"4 is 5 ???\", perceptron(num4))\n",
    "print(\"5 is 5 ???\", perceptron(num5))\n",
    "print(\"6 is 5 ???\", perceptron(num6))\n",
    "print(\"7 is 5 ???\", perceptron(num7))\n",
    "print(\"8 is 5 ???\", perceptron(num8))\n",
    "print(\"9 is 5 ???\", perceptron(num9))"
   ]
  },
  {
   "cell_type": "code",
   "execution_count": 23,
   "id": "ce3bdd84",
   "metadata": {},
   "outputs": [],
   "source": [
    "num5_1 = list(\"\"\"111100111000111\"\"\")\n",
    "#111\n",
    "#100\n",
    "#111\n",
    "#000\n",
    "#111\n",
    "num5_2 = list(\"\"\"111100010001111\"\"\")\n",
    "#111\n",
    "#100\n",
    "#010\n",
    "#001\n",
    "#111\n",
    "num5_3 = list(\"\"\"111100011001111\"\"\")\n",
    "#111\n",
    "#100\n",
    "#011\n",
    "#001\n",
    "#111\n",
    "num5_4 = list(\"\"\"110100111001111\"\"\")\n",
    "#110\n",
    "#100\n",
    "#111\n",
    "#001\n",
    "#111\n",
    "num5_5 = list(\"\"\"111000111001011\"\"\")\n",
    "#110\n",
    "#100\n",
    "#111\n",
    "#001\n",
    "#011\n",
    "num5_6 = list(\"\"\"111100101001111\"\"\")\n",
    "#111\n",
    "#100\n",
    "#101\n",
    "#001\n",
    "#111"
   ]
  },
  {
   "cell_type": "code",
   "execution_count": 24,
   "id": "53fa3cee",
   "metadata": {},
   "outputs": [
    {
     "name": "stdout",
     "output_type": "stream",
     "text": [
      "Recognized 5 in 5_1?  True\n",
      "Recognized 5 in 5_2?  True\n",
      "Recognized 5 in 5_3?  True\n",
      "Recognized 5 in 5_4?  True\n",
      "Recognized 5 in 5_5?  True\n",
      "Recognized 5 in 5_6?  True\n"
     ]
    }
   ],
   "source": [
    "print(\"Recognized 5 in 5_1? \", perceptron(num5_1))\n",
    "print(\"Recognized 5 in 5_2? \", perceptron(num5_2))\n",
    "print(\"Recognized 5 in 5_3? \", perceptron(num5_3))\n",
    "print(\"Recognized 5 in 5_4? \", perceptron(num5_4))\n",
    "print(\"Recognized 5 in 5_5? \", perceptron(num5_5))\n",
    "print(\"Recognized 5 in 5_6? \", perceptron(num5_6))"
   ]
  }
 ],
 "metadata": {
  "kernelspec": {
   "display_name": "Python 3 (ipykernel)",
   "language": "python",
   "name": "python3"
  },
  "language_info": {
   "codemirror_mode": {
    "name": "ipython",
    "version": 3
   },
   "file_extension": ".py",
   "mimetype": "text/x-python",
   "name": "python",
   "nbconvert_exporter": "python",
   "pygments_lexer": "ipython3",
   "version": "3.8.13"
  }
 },
 "nbformat": 4,
 "nbformat_minor": 5
}
