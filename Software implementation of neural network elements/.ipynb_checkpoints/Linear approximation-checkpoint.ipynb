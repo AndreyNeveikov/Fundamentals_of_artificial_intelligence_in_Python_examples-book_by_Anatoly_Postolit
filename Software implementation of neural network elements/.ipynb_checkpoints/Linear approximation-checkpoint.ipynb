{
 "cells": [
  {
   "cell_type": "code",
   "execution_count": 17,
   "id": "3b7c57a7",
   "metadata": {},
   "outputs": [
    {
     "name": "stdout",
     "output_type": "stream",
     "text": [
      "Initial line: Y =   2.873913322102524 * X +  -1.6834136495245868\n"
     ]
    }
   ],
   "source": [
    "import random\n",
    "\n",
    "k = random.uniform(-5, 5)  # Coefficient at x\n",
    "c = random.uniform(-5, 5)  # Free term of the straight line equation\n",
    "print('Initial line: Y =  ', k, '* X + ', c)  # Data output of the initial line"
   ]
  },
  {
   "cell_type": "code",
   "execution_count": 18,
   "id": "547f0716",
   "metadata": {},
   "outputs": [],
   "source": [
    "rate = 0.000001  # Learning rate (determined experimentally)\n",
    "\n",
    "# X:Y point set\n",
    "data = {\n",
    "    22: 150,\n",
    "    23: 155,\n",
    "    24: 160,\n",
    "    25: 162,\n",
    "    26: 171,\n",
    "    27: 174,\n",
    "    28: 180,\n",
    "    29: 183,\n",
    "    30: 189,\n",
    "    31: 192\n",
    "}"
   ]
  },
  {
   "cell_type": "code",
   "execution_count": 19,
   "id": "c47757ab",
   "metadata": {},
   "outputs": [],
   "source": [
    "# Calculate y\n",
    "def proceed(x):\n",
    "    return x * k + c"
   ]
  },
  {
   "cell_type": "code",
   "execution_count": 20,
   "id": "9bd73721",
   "metadata": {},
   "outputs": [],
   "source": [
    "# Network training\n",
    "for i in range(10000):\n",
    "    x = random.choice(list(data.keys()))  # Get a random X coordinate of a point\n",
    "    true_result = data[x]  # Get the corresponding Y coordinate of a point\n",
    "    out = proceed(x)  # Get network response\n",
    "    delta = true_result - out  # Consider network error\n",
    "    k += delta * rate * x  # Change the weight at x according to the delta rule\n",
    "    c += delta * rate  # Change the weight at a constant input in accordance with the delta rule"
   ]
  },
  {
   "cell_type": "code",
   "execution_count": 21,
   "id": "603cd427",
   "metadata": {},
   "outputs": [
    {
     "name": "stdout",
     "output_type": "stream",
     "text": [
      "Finished straight: Y =  6.508080530579149 * X +  -1.5426058671296246\n",
      "0.8411191432345504\n"
     ]
    }
   ],
   "source": [
    "print('Finished straight: Y = ', k, '* X + ', c)  # Output data of the finished line\n",
    "print(delta)"
   ]
  }
 ],
 "metadata": {
  "kernelspec": {
   "display_name": "Python 3 (ipykernel)",
   "language": "python",
   "name": "python3"
  },
  "language_info": {
   "codemirror_mode": {
    "name": "ipython",
    "version": 3
   },
   "file_extension": ".py",
   "mimetype": "text/x-python",
   "name": "python",
   "nbconvert_exporter": "python",
   "pygments_lexer": "ipython3",
   "version": "3.8.13"
  }
 },
 "nbformat": 4,
 "nbformat_minor": 5
}
